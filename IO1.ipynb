{
  "nbformat": 4,
  "nbformat_minor": 0,
  "metadata": {
    "colab": {
      "provenance": [],
      "authorship_tag": "ABX9TyMBA6Fe8RORc4b4slSvbSIy",
      "include_colab_link": true
    },
    "kernelspec": {
      "name": "python3",
      "display_name": "Python 3"
    },
    "language_info": {
      "name": "python"
    }
  },
  "cells": [
    {
      "cell_type": "markdown",
      "metadata": {
        "id": "view-in-github",
        "colab_type": "text"
      },
      "source": [
        "<a href=\"https://colab.research.google.com/github/jorozcov/IO1/blob/main/IO1.ipynb\" target=\"_parent\"><img src=\"https://colab.research.google.com/assets/colab-badge.svg\" alt=\"Open In Colab\"/></a>"
      ]
    },
    {
      "cell_type": "markdown",
      "source": [
        "# **Problema**"
      ],
      "metadata": {
        "id": "Z50NANT8wQ_H"
      }
    },
    {
      "cell_type": "markdown",
      "source": [
        "**Minimizar 3*x + 8*y**\n",
        "\n",
        "sujeto a:\n",
        "\n",
        "x + y >= 50\n",
        "\n",
        "x - y <= 20\n",
        "\n",
        "x >= 0\n",
        "y >= 0"
      ],
      "metadata": {
        "id": "WIfFvBLoks4p"
      }
    },
    {
      "cell_type": "code",
      "source": [
        "from cvxpy.reductions.solvers import solver\n",
        "import cvxpy as cp\n",
        "\n",
        "# Crear variables\n",
        "x = cp.Variable()\n",
        "y = cp.Variable()\n",
        "\n",
        "# Restricciones\n",
        "\n",
        "restricciones = [x + y >= 50,\n",
        "                 x - y <= 20,\n",
        "                 x >= 0,\n",
        "                 y >= 0]\n",
        "\n",
        "# Función objetivo\n",
        "FO = cp.Minimize(3*x + 8*y)\n",
        "\n",
        "#Plantear problema y resolverlo\n",
        "prob = cp.Problem(FO, restricciones)\n",
        "\n",
        "\n",
        "prob.solve(solver= cp.OSQP) \n",
        "\n",
        "print(\"Optimización con OSQP\")\n",
        "print(\"Estado :\", prob.status)\n",
        "print(\"Valor óptimo\", prob.value)\n",
        "print(\"X óptima =\", x.value)\n",
        "print(\"Y óptima =\", y.value)\n",
        "print()\n",
        "\n",
        "\n",
        "prob.solve(solver= cp.CVXOPT) \n",
        "\n",
        "print(\"Optimización con CVXOPT\")\n",
        "print(\"Estado :\", prob.status)\n",
        "print(\"Valor óptimo\", prob.value)\n",
        "print(\"X óptima =\", x.value)\n",
        "print(\"Y óptima =\", y.value)"
      ],
      "metadata": {
        "colab": {
          "base_uri": "https://localhost:8080/"
        },
        "id": "MrMRpSqQlElu",
        "outputId": "ae3804e7-69fc-4cd9-ac59-79c3fe59e411"
      },
      "execution_count": 4,
      "outputs": [
        {
          "output_type": "stream",
          "name": "stdout",
          "text": [
            "Optimización con OSQP\n",
            "Estado : optimal\n",
            "Valor óptimo 225.0\n",
            "X óptima = 35.0\n",
            "Y óptima = 15.0\n",
            "\n",
            "Optimización con CVXOPT\n",
            "Estado : optimal\n",
            "Valor óptimo 224.99999976401097\n",
            "X óptima = 35.00000000026747\n",
            "Y óptima = 14.999999970401069\n"
          ]
        }
      ]
    },
    {
      "cell_type": "markdown",
      "source": [
        "# **Comparación de los resultados**"
      ],
      "metadata": {
        "id": "ed7fhLowv5Vi"
      }
    },
    {
      "cell_type": "markdown",
      "source": [
        "Practicamente con ambos solver se obtuvo el mismo resultado, si se redondea, el valor optimo es 225 con x = 35 y y = 15, no hay diferencia significativa para decidir cuál es el óptimo. Ambos solver están hechos para la solución de problemas convexos, es decir, problemas de optimización continuos; y este, al ser un problema de programación lineal, es perfectamente viable tanto con OSQP o con CVXOPT. \n",
        "\n",
        "\n"
      ],
      "metadata": {
        "id": "1fKlZhCEv987"
      }
    },
    {
      "cell_type": "markdown",
      "source": [
        "Si se mira desde un lado extremo, la solución con el solver OSQP es \"mejor\", ya que converge a la solución exacta sin necesidad de redondeos, pero a los ojos de un analista ambos solver dan la misma solución."
      ],
      "metadata": {
        "id": "9G92TjP-njy-"
      }
    }
  ]
}